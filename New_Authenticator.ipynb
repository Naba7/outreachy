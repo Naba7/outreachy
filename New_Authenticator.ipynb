{
 "cells": [
  {
   "cell_type": "code",
   "execution_count": null,
   "metadata": {},
   "outputs": [],
   "source": [
    "\n",
    "from jupyterhub.auth import Authenticator\n",
    "\n",
    "from tornado import gen\n",
    "\n",
    "import csv"
   ]
  },
  {
   "cell_type": "code",
   "execution_count": null,
   "metadata": {},
   
   "outputs": [],
   "source": [
    "class MyNewAuthenticator(Authenticator):\n",
    "        \n",
    "        \n",
    "        \n",
    "\n",
    "    @gen.coroutine\n",
    "    def authenticate(self, handler,data):\n",
    "       with open('Example.csv') as csvfile:\n",
    "        readCSV=csv.reader(csvfile,delimiter=',')\n",
    "        \n",
    "        username[]\n",
    "        password[]\n",
    "        for row in readCSV:\n",
    "            username.append(row[0])\n",
    "            password.append(row[1])\n",
    "        len=len(username)\n",
    "        while(len--):\n",
    "            if username[len] == data['username']:\n",
    "                if password[len] == data['password']:\n",
    "                    return username\n",
    "                return None\n",
    "        if len == -1:\n", 
    "            return None\n",
    "        \n",
    "            \n",
    "            "
   ]
  }
 ],
 "metadata": {
  "kernelspec": {
   "display_name": "Python 3",
   "language": "python",
   "name": "python3"
  },
  "language_info": {
   "codemirror_mode": {
    "name": "ipython",
    "version": 3
   },
   "file_extension": ".py",
   "mimetype": "text/x-python",
   "name": "python",
   "nbconvert_exporter": "python",
   "pygments_lexer": "ipython3",
   "version": "3.6.5"
  }
 },
 "nbformat": 4,
 "nbformat_minor": 2
}
